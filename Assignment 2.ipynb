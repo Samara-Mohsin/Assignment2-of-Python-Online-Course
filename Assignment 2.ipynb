{
 "cells": [
  {
   "cell_type": "code",
   "execution_count": 3,
   "metadata": {},
   "outputs": [
    {
     "name": "stdout",
     "output_type": "stream",
     "text": [
      "Enter the Marks of Maths:85\n",
      "Enter the Marks of Science:75\n",
      "Enter the Marks of English:65\n",
      "Enter the Marks of Urdu:40\n",
      "Enter the Marks of Islamiat:98\n",
      "MARKSHEET\n",
      "Grade of Maths:A+\n",
      "Grade of Science:A\n",
      "Grade of English:B\n",
      "Grade of  Urdu: Fail\n",
      "Grade of  Islamiat:A+\n"
     ]
    }
   ],
   "source": [
    "input1=int(input(\"Enter the Marks of Maths:\"))\n",
    "if input1>=80 and input1<=100:\n",
    "    input1=\"Grade of Maths:A+\"\n",
    "elif input1>=70 and input1<80:\n",
    "     input1=\"Grade of Maths:A\"\n",
    "elif input1>=60 and input1<70:\n",
    "    input1=\"Grade of Maths:B\"\n",
    "elif input1>=50 and input1<60:\n",
    "    input1=\"Grade of Maths:C\"\n",
    "else:\n",
    "    input1=\"Grade of Maths: Fail\"\n",
    "    \n",
    "input2=int(input(\"Enter the Marks of Science:\"))\n",
    "if input2>=80 and input2<=100:\n",
    "    input2=\"Grade of Science:A+\"\n",
    "elif input2>=70 and input2<80:\n",
    "    input2=\"Grade of Science:A\"\n",
    "elif input2>=60 and input2<70:\n",
    "    input2=\"Grade of Science:B\"\n",
    "elif input2>=50 and input2<60:\n",
    "    input2=\"Grade of Science:C\"\n",
    "else:\n",
    "    input2=\"Grade of Science: Fail\"\n",
    "    \n",
    "input3=int(input(\"Enter the Marks of English:\"))\n",
    "if input3>=80 and input3<=100:\n",
    "    input3=\"Grade of English:A+\"\n",
    "elif input3>=70 and input3<80:\n",
    "    input3=\"Grade of English:A\"\n",
    "elif input3>=60 and input3<70:\n",
    "    input3=\"Grade of English:B\"\n",
    "elif input3>=50 and input3<60:\n",
    "    input3=\"Grade of English:C\"\n",
    "else:\n",
    "    input3=\"Grade of  English: Fail\"\n",
    "    \n",
    "input4=int(input(\"Enter the Marks of Urdu:\"))\n",
    "if input4>=80 and input4<=100:\n",
    "    input4=\"Grade of Urdu:A+\"\n",
    "elif input4>=70 and input4<80:\n",
    "    input4=\"Grade of Urdu:A\"\n",
    "elif input4>=60 and input4<70:\n",
    "    input4=\"Grade of Urdu:B\"\n",
    "elif input4>=50 and input4<60:\n",
    "    input4=\"Grade of Urdu:C\"\n",
    "else:\n",
    "    input4=\"Grade of  Urdu: Fail\"\n",
    "    \n",
    "input5=int(input(\"Enter the Marks of Islamiat:\"))\n",
    "if input5>=80 and input5<=100:\n",
    "    input5=\"Grade of  Islamiat:A+\"\n",
    "elif input5>=70 and input5<80:\n",
    "    input5=\"Grade of  Islamiat:A\"\n",
    "elif input5>=60 and input5<70:\n",
    "    input5=\"Grade of  Islamiat:B\"\n",
    "elif input5>=50 and input5<60:\n",
    "    input5=\"Grade of  Islamiat:C\"\n",
    "else:\n",
    "    input5=\"Grade of   Islamiat:Fail\"\n",
    "    \n",
    "print(             \"MARKSHEET\"           )\n",
    "print(input1)\n",
    "print(input2)\n",
    "print(input3)\n",
    "print(input4)\n",
    "print(input5)\n"
   ]
  },
  {
   "cell_type": "code",
   "execution_count": 4,
   "metadata": {},
   "outputs": [
    {
     "name": "stdout",
     "output_type": "stream",
     "text": [
      "Enter the number: 45\n",
      "The given number is odd\n"
     ]
    }
   ],
   "source": [
    "#Assi 2\n",
    "#Q2\n",
    "num = int(input(\"Enter the number: \"))\n",
    "if num%2 == 0:\n",
    "    print(\"The given number is even\")\n",
    "else:\n",
    "    print(\"The given number is odd\")\n"
   ]
  },
  {
   "cell_type": "code",
   "execution_count": 5,
   "metadata": {},
   "outputs": [
    {
     "name": "stdout",
     "output_type": "stream",
     "text": [
      "How many numbers you want to add in list?: 7\n",
      "Enter the number1\n",
      "Enter the number34\n",
      "Enter the number65\n",
      "Enter the number90\n",
      "Enter the number21\n",
      "Enter the number4\n",
      "Enter the number6\n",
      "[1, 34, 65, 90, 21, 4, 6]\n",
      "7\n"
     ]
    }
   ],
   "source": [
    "#Q3\n",
    "l=[]\n",
    "num=int(input(\"How many numbers you want to add in list?: \"))\n",
    "i=1\n",
    "for i in range(1,num+1):\n",
    "    num2=int(input(\"Enter the number\"))\n",
    "    l.append(num2)\n",
    "print(l)\n",
    "print(len(l))\n"
   ]
  },
  {
   "cell_type": "code",
   "execution_count": 6,
   "metadata": {},
   "outputs": [
    {
     "name": "stdout",
     "output_type": "stream",
     "text": [
      "How many numbers you want to add in list?: 5\n",
      "Enter the number3\n",
      "Enter the number7\n",
      "Enter the number1\n",
      "Enter the number0\n",
      "Enter the number5\n",
      "[3, 7, 1, 0, 5]\n",
      "16\n"
     ]
    }
   ],
   "source": [
    "l=[]\n",
    "num=int(input(\"How many numbers you want to add in list?: \"))\n",
    "i=1\n",
    "for i in range(1,num+1):\n",
    "    num2=int(input(\"Enter the number\"))\n",
    "    l.append(num2)\n",
    "print(l)\n",
    "print(sum(l))\n"
   ]
  },
  {
   "cell_type": "code",
   "execution_count": 7,
   "metadata": {},
   "outputs": [
    {
     "name": "stdout",
     "output_type": "stream",
     "text": [
      "How many numbers you want to add in list?: 4\n",
      "Enter the number56\n",
      "Enter the number90\n",
      "Enter the number32\n",
      "Enter the number1\n",
      "[56, 90, 32, 1]\n",
      "90\n"
     ]
    }
   ],
   "source": [
    "l=[]\n",
    "num=int(input(\"How many numbers you want to add in list?: \"))\n",
    "i=1\n",
    "for i in range(1,num+1):\n",
    "    num2=int(input(\"Enter the number\"))\n",
    "    l.append(num2)\n",
    "print(l)\n",
    "print(max(l))\n"
   ]
  },
  {
   "cell_type": "code",
   "execution_count": 8,
   "metadata": {},
   "outputs": [
    {
     "name": "stdout",
     "output_type": "stream",
     "text": [
      "How many numbers you want to add in list?: 11\n",
      "Enter the number1\n",
      "Enter the number1\n",
      "Enter the number2\n",
      "Enter the number3\n",
      "Enter the number5\n",
      "Enter the number8\n",
      "Enter the number13\n",
      "Enter the number21\n",
      "Enter the number34\n",
      "Enter the number55\n",
      "Enter the number89\n",
      "a= [1, 1, 2, 3, 5, 8, 13, 21, 34, 55, 89]\n",
      "[1, 1, 2, 3]\n"
     ]
    }
   ],
   "source": [
    "#Q6\n",
    "a=[]\n",
    "b=[]\n",
    "num=int(input(\"How many numbers you want to add in list?: \"))\n",
    "i=1\n",
    "for i in range(1,num+1):\n",
    "    num2=int(input(\"Enter the number\"))\n",
    "    a.append(num2)\n",
    "for j in a:\n",
    "    if j<5:\n",
    "        b.append(j)\n",
    "            \n",
    "        \n",
    "print(\"a=\", a)\n",
    "print(b)"
   ]
  },
  {
   "cell_type": "code",
   "execution_count": null,
   "metadata": {},
   "outputs": [],
   "source": []
  }
 ],
 "metadata": {
  "kernelspec": {
   "display_name": "Python 3",
   "language": "python",
   "name": "python3"
  },
  "language_info": {
   "codemirror_mode": {
    "name": "ipython",
    "version": 3
   },
   "file_extension": ".py",
   "mimetype": "text/x-python",
   "name": "python",
   "nbconvert_exporter": "python",
   "pygments_lexer": "ipython3",
   "version": "3.7.4"
  }
 },
 "nbformat": 4,
 "nbformat_minor": 2
}
